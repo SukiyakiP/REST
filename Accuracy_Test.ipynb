{
 "cells": [
  {
   "cell_type": "code",
   "execution_count": null,
   "metadata": {},
   "outputs": [],
   "source": [
    "# %matplotlib widget\n",
    "import os\n",
    "import glob\n",
    "import torch\n",
    "import numpy as np\n",
    "from torch.utils.data import  DataLoader\n",
    "from sklearn.metrics import confusion_matrix,cohen_kappa_score,accuracy_score, classification_report\n",
    "import seaborn as sns\n",
    "import matplotlib.pyplot as plt\n",
    "from RESTCORE import REST\n",
    "from RESTutils import create_sequences"
   ]
  },
  {
   "cell_type": "code",
   "execution_count": null,
   "metadata": {},
   "outputs": [],
   "source": [
    "# Parameters\n",
    "fs = 512  # Sampling frequency\n",
    "epoch_length = 4  # Epoch length in seconds\n",
    "nperseg = 256  # Segment length for PSD computation\n",
    "sequence_length = 90 # Number of epochs in a sequence. 15 epochs/minute\n",
    "window_size=sequence_length\n",
    "step=60 # Step size for creating sequences\n",
    "batch_size = 32  # Batch size for training\n",
    "n_classes = 3   # Number of sleep stages (e.g., Wake, NREM, REM)\n",
    "f_bin=130 # Frequency bin for PSD computation\n",
    "device = torch.device('cuda' if torch.cuda.is_available() else 'cpu')"
   ]
  },
  {
   "cell_type": "code",
   "execution_count": null,
   "metadata": {},
   "outputs": [],
   "source": [
    "ds_path = r'' # Path to the test dataset file, it need to be different (unseen) from the training dataset file\n",
    "arr = np.load(ds_path)\n",
    "EEG = arr[\"EEG\"]     # shape: [n_epochs,   256 * 4]  (down‑sampled to 64 Hz)\n",
    "EMG = arr[\"EMG\"]     # shape: [n_epochs, 1024 * 4]  (down‑sampled to 256 Hz)\n",
    "score = arr[\"score\"] - 1\n",
    "score[score > 2] = 0             # collapse stage “?” to Wake\n",
    "score = score.astype(np.int64) #wake=0,NREM=1,REM=2\n",
    "del arr"
   ]
  },
  {
   "cell_type": "code",
   "execution_count": null,
   "metadata": {},
   "outputs": [],
   "source": [
    "# Concatenate along feature dimension  → [n_epochs, frames=5, feat=65*2]\n",
    "epoch_tensor = np.concatenate([EEG, EMG], axis=-1).astype(np.float32)                   \n",
    "X, Y = create_sequences(window_size, step,epoch_tensor, score)\n",
    "sequences_tensor = torch.tensor(X, dtype=torch.float32).to(device)\n",
    "sequences_batch=DataLoader(sequences_tensor, batch_size=batch_size, shuffle=False)"
   ]
  },
  {
   "cell_type": "code",
   "execution_count": null,
   "metadata": {},
   "outputs": [],
   "source": [
    "# Get the current script's directory\n",
    "script_dir = os.getcwd()\n",
    "# Search for .pth files in the same directory\n",
    "pth_files = glob.glob(os.path.join(script_dir, \"*.pth\"))\n",
    "\n",
    "if len(pth_files) == 0:\n",
    "    raise FileNotFoundError(\"No .pth model file found in script directory.\")\n",
    "elif len(pth_files) > 1:\n",
    "    print(\"Warning: multiple .pth files found. Using the first one.\")\n",
    "Model_path = pth_files[0]\n",
    "print(f\"Loading model from: {Model_path}\")"
   ]
  },
  {
   "cell_type": "code",
   "execution_count": null,
   "metadata": {},
   "outputs": [],
   "source": [
    "model = REST(\n",
    "    in_feat=f_bin,\n",
    "    n_classes=3,\n",
    "    win_len=window_size,\n",
    "    d_model=256,\n",
    "    nhead=8,\n",
    "    nlayers_epoch=4,\n",
    "    nlayers_seq=4,\n",
    "    ff=512,\n",
    "    fc_hidden1=128,\n",
    "    fc_hidden2=64,\n",
    "    dropout=0.1\n",
    ").to(device)\n",
    "model.load_state_dict(torch.load(Model_path, weights_only=True))  # Load the trained weights\n",
    "model.to(device)  # Move the model to the GPU\n",
    "model.eval()  # Set the model to evaluation mode\n",
    "all_preds=[]\n",
    "with torch.no_grad():\n",
    "    for batch_X in sequences_batch:\n",
    "        batch_X= batch_X.to(device)\n",
    "        output = model(batch_X)  # Shape: [batch_size, sequence_length, n_classes]\n",
    "        predicted = torch.argmax(output.data, 2)  # Shape: [batch_size, sequence_length] \n",
    "        first_epoch_preds = predicted[:,:step].cpu().numpy()\n",
    "        all_preds.append(first_epoch_preds)\n",
    "predictions = np.concatenate(all_preds, axis=0).flatten() + 1  # Adjust labels if needed"
   ]
  },
  {
   "cell_type": "code",
   "execution_count": null,
   "metadata": {},
   "outputs": [],
   "source": [
    "predicted_score = np.array(predictions)\n",
    "Reference_score=score+1\n",
    "Reference_score[Reference_score==4] = 1\n",
    "reference_score = Reference_score[:len(predicted_score)]"
   ]
  },
  {
   "cell_type": "code",
   "execution_count": null,
   "metadata": {},
   "outputs": [],
   "source": [
    "labels = [1, 2, 3]\n",
    "cm = confusion_matrix(reference_score, predicted_score, labels=labels)\n",
    "kappa = cohen_kappa_score(reference_score, predicted_score)\n",
    "accuracy = accuracy_score(reference_score, predicted_score)\n",
    "print(f\"Accuracy: {accuracy:.4f}\")\n",
    "print(f\"\\nCohen's Kappa: {kappa:.3f}\")\n",
    "# Detailed classification report\n",
    "print(\"\\nClassification Report:\")\n",
    "print(classification_report(reference_score, predicted_score, target_names=[\"Wake\", \"NREM\", \"REM\"]))\n",
    "# Compute the confusion matrix\n",
    "# Optional: heatmap plot\n",
    "sns.heatmap(cm, annot=True, fmt='d', cmap='Blues',\n",
    "            xticklabels=[\"Wake\", \"NREM\", \"REM\"],\n",
    "            yticklabels=[\"Wake\", \"NREM\", \"REM\"])\n",
    "plt.xlabel(\"REST Prediction\")\n",
    "plt.ylabel(\"Manual Score\")\n",
    "plt.title(\"Confusion Matrix (Manual vs Transformer)\")\n",
    "plt.tight_layout()\n",
    "plt.savefig(\"confusion_matrix_manual_VS_transformer.tiff\", dpi=600, format=\"tiff\")\n",
    "plt.show()\n",
    "plt.figure(figsize=(15, 5))\n",
    "# plt.step(range(1800), predicted_score[:1800], where='mid', label='Predicted Labels')\n",
    "plt.step(range(len(reference_score)), reference_score, where='mid', label='Reference Labels')\n",
    "plt.xlabel('Epoch')\n",
    "plt.ylabel('Reference Label')\n",
    "plt.title('Reference Labels as Stairs Plot')\n",
    "plt.legend()\n",
    "plt.show()\n",
    "plt.figure(figsize=(15, 5))\n",
    "# plt.step(range(1800), predicted_score[:1800], where='mid', label='Predicted Labels')\n",
    "plt.step(range(len(predicted_score)), predicted_score, where='mid', label='Predicted Labels')\n",
    "plt.xlabel('Epoch')\n",
    "plt.ylabel('Predicted Label')\n",
    "plt.title('Predicted Labels as Stairs Plot')\n",
    "plt.legend()\n",
    "plt.show()"
   ]
  }
 ],
 "metadata": {
  "kernelspec": {
   "display_name": "Python 3",
   "language": "python",
   "name": "python3"
  },
  "language_info": {
   "codemirror_mode": {
    "name": "ipython",
    "version": 3
   },
   "file_extension": ".py",
   "mimetype": "text/x-python",
   "name": "python",
   "nbconvert_exporter": "python",
   "pygments_lexer": "ipython3",
   "version": "3.12.8"
  }
 },
 "nbformat": 4,
 "nbformat_minor": 2
}
