{
 "cells": [
  {
   "cell_type": "code",
   "execution_count": null,
   "metadata": {},
   "outputs": [],
   "source": [
    "import os\n",
    "import glob\n",
    "import mne\n",
    "import torch\n",
    "import numpy as np\n",
    "from scipy.io import savemat\n",
    "from torch.utils.data import  DataLoader\n",
    "from tqdm.notebook import tqdm\n",
    "from RESTCORE import REST\n",
    "from RESTutils import compute_powers, data_process,create_sequences"
   ]
  },
  {
   "cell_type": "code",
   "execution_count": null,
   "metadata": {},
   "outputs": [],
   "source": [
    "# Parameters, make sure they match those used in training\n",
    "fs = 512  # Sampling frequency\n",
    "epoch_length = 4  # Epoch length in seconds\n",
    "window_size = 90 # Number of epochs in a sequence\n",
    "step=60 # overlapping step size for sequences\n",
    "batch_size = 128  # Batch size for training\n",
    "n_classes = 3   # Number of sleep stages (e.g., Wake, NREM, REM)\n",
    "f_bin=130 # Frequency bin for PSD computation\n",
    "device = torch.device('cuda' if torch.cuda.is_available() else 'cpu')\n",
    "model = REST(\n",
    "    in_feat=f_bin,\n",
    "    n_classes=3,\n",
    "    win_len=window_size,\n",
    "    d_model=256,\n",
    "    nhead=8,\n",
    "    nlayers_epoch=4,\n",
    "    nlayers_seq=4,\n",
    "    ff=512,\n",
    "    fc_hidden1=128,\n",
    "    fc_hidden2=64,\n",
    "    dropout=0.1\n",
    ").to(device)\n",
    "\n",
    "\"\"\"\n",
    "important! \n",
    "\"\"\"\n",
    "edf_folder =  # insert Path to the folder containing EDF files, predicated score will be saved in the same folder"
   ]
  },
  {
   "cell_type": "code",
   "execution_count": null,
   "metadata": {},
   "outputs": [],
   "source": [
    "# Get the current script's directory\n",
    "script_dir = os.getcwd()\n",
    "# Search for .pth files in the same directory\n",
    "pth_files = glob.glob(os.path.join(script_dir, \"*.pth\"))\n",
    "\n",
    "if len(pth_files) == 0:\n",
    "    raise FileNotFoundError(\"No .pth model file found in script directory.\")\n",
    "elif len(pth_files) > 1:\n",
    "    print(\"Warning: multiple .pth files found. Using the first one.\")\n",
    "Model_path = pth_files[0]\n",
    "print(f\"Loading model from: {Model_path}\")\n",
    "\n",
    "model.load_state_dict(torch.load(Model_path, weights_only=True))  # Load the trained weights\n",
    "model.to(device)  # Move the model to the GPU\n",
    "model.eval()  # Set the model to evaluation mode"
   ]
  },
  {
   "cell_type": "code",
   "execution_count": null,
   "metadata": {},
   "outputs": [],
   "source": [
    "edf_files = glob.glob(os.path.join(edf_folder,\"**\", \"*.edf\"), recursive=True)\n",
    "for fp_edf in tqdm(edf_files):\n",
    "    file_name = os.path.splitext(os.path.basename(fp_edf))[0]\n",
    "    save_folder = os.path.dirname(fp_edf)\n",
    "    save_path = os.path.join(save_folder, file_name + \"_REST.mat\")\n",
    "    \n",
    "    raw = mne.io.read_raw_edf(fp_edf, preload=True)                            \n",
    "    channel_name = raw.info.ch_names\n",
    "\n",
    "    EEG_channel = [i for i, name in enumerate(channel_name) if 'RF' in name and 'LP' not in name]\n",
    "    EMG_channel = [index for index, name in enumerate(channel_name) if 'EMG' in name]\n",
    "    \n",
    "    if not EEG_channel or not EMG_channel:\n",
    "        print(f\"Skipping {fp_edf}: Missing 'RF' or 'EMG' channel\")\n",
    "        continue\n",
    "\n",
    "    EEG = raw.get_data(EEG_channel)\n",
    "    EMG = raw.get_data(EMG_channel)\n",
    "\n",
    "    power = compute_powers(EEG, EMG, sfreq=512)\n",
    "    EEG_STFT, EMG_STFT = data_process(EEG, EMG)\n",
    "    STFT = np.concatenate((EEG_STFT, EMG_STFT), axis=-1)\n",
    "    X = create_sequences(window_size, step,STFT)\n",
    "    sequences_tensor = torch.tensor(X, dtype=torch.float32).to(device)\n",
    "    sequences_batch = DataLoader(sequences_tensor, batch_size=batch_size, shuffle=False)\n",
    "\n",
    "    all_preds = []\n",
    "    with torch.no_grad():\n",
    "        for batch_X in sequences_batch:\n",
    "            batch_X = batch_X.to(device)\n",
    "            output = model(batch_X)\n",
    "            predicted = torch.argmax(output.data, 2)\n",
    "            first_epoch_preds = predicted[:, :step].cpu().numpy()\n",
    "            all_preds.append(first_epoch_preds)\n",
    "\n",
    "    predictions = np.concatenate(all_preds, axis=0).flatten() + 1\n",
    "    score = np.array(predictions, dtype=np.int64)\n",
    "\n",
    "    savemat(save_path, {'score': score, 'power': power})\n",
    "    print(f\"Saved: {save_path}\")\n"
   ]
  }
 ],
 "metadata": {
  "kernelspec": {
   "display_name": "Python 3",
   "language": "python",
   "name": "python3"
  },
  "language_info": {
   "codemirror_mode": {
    "name": "ipython",
    "version": 3
   },
   "file_extension": ".py",
   "mimetype": "text/x-python",
   "name": "python",
   "nbconvert_exporter": "python",
   "pygments_lexer": "ipython3",
   "version": "3.12.8"
  }
 },
 "nbformat": 4,
 "nbformat_minor": 2
}
