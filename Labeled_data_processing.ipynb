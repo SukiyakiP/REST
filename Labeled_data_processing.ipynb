{
 "cells": [
  {
   "cell_type": "code",
   "execution_count": null,
   "metadata": {},
   "outputs": [],
   "source": [
    "import os\n",
    "import mne\n",
    "import numpy as np\n",
    "import pandas as pd\n",
    "from tqdm.notebook import tqdm\n",
    "from RESTutils import data_process"
   ]
  },
  {
   "cell_type": "code",
   "execution_count": null,
   "metadata": {},
   "outputs": [],
   "source": [
    "# Parameters\n",
    "fs=512\n",
    "epoch_length=4 # seconds\n",
    "# Folder path\n",
    "folder_path = r'M:\\Alex\\Python\\REST\\Test' # Specify the folder path containing the both EDF and score files, the files should be named like 'subject_1.edf' and 'subject_1.tsv'\n",
    "save_path = r'M:\\Alex\\Python\\REST\\Test' # Specify the folder path to save the processed data\n",
    "file_name = \"processed_data.npy\"         # your filename\n",
    "full_path = os.path.join(save_path, file_name)\n",
    "\n",
    "EEG_channel_name = 'RF' # Name of the EEG channel to use, change if needed\n",
    "EMG_channel_name = 'EMG' # Name of the EMG channel to use, change if needed"
   ]
  },
  {
   "cell_type": "code",
   "execution_count": null,
   "metadata": {},
   "outputs": [],
   "source": [
    "# Scan the folder and add files to the lists\n",
    "fp_score = []\n",
    "fp_edf = []\n",
    "\n",
    "for file in sorted(os.listdir(folder_path)):\n",
    "    if file.endswith('.txt'):\n",
    "        fp_score.append(os.path.join(folder_path, file))\n",
    "    elif file.endswith('.edf'):\n",
    "        fp_edf.append(os.path.join(folder_path, file))\n",
    "\n",
    "# Ensure the files are in pairs and in correct order\n",
    "fp_score.sort()\n",
    "fp_edf.sort()\n",
    "\n",
    "# Check if the pairs are correct\n",
    "for edf_file, tsv_file in zip(fp_edf, fp_score):\n",
    "    edf_base = os.path.basename(edf_file).rsplit('_', 1)[0]\n",
    "    tsv_base = os.path.basename(tsv_file).rsplit('_', 1)[0]\n",
    "    if edf_base != tsv_base:\n",
    "        print(f\"Mismatch: {edf_file} and {tsv_file}\")"
   ]
  },
  {
   "cell_type": "code",
   "execution_count": null,
   "metadata": {},
   "outputs": [],
   "source": [
    "score_og = []\n",
    "EEG_og = []\n",
    "EMG_og = []\n",
    "\n",
    "for score_file,fp in tqdm(zip(fp_score,fp_edf), total=len(fp_score)): # loop through all the edf files\n",
    "    df = pd.read_csv(score_file, delimiter=',')\n",
    "    score = df.iloc[:, 3].to_numpy()\n",
    "    score[score > 3] = -100  # mark unscored as -100, just in case they exist (they shouldn't), those will be ignored during training\n",
    "    score[score == 0] = 4 # move artifact from 0 to 4\n",
    "    \n",
    "    raw = mne.io.read_raw_edf(fp, preload=True) # read the edf file\n",
    "    channel_name=raw.info.ch_names # get the channel names\n",
    "    idx=[index for index, name in enumerate (channel_name) if 'RF' in name] # find the index of the RF channel\n",
    "    EEG=raw.get_data(idx) # get the RF channel  \n",
    "    idx=[index for index, name in enumerate (channel_name) if 'EMG' in name] # find the index of the EMG channel\n",
    "    EMG=raw.get_data(idx)   # get the EMG channel\n",
    "    EEG,EMG=data_process(EEG,EMG) # process the EEG and EMG signals\n",
    "    # Compare lengths and cut the longer one to match the shorter one\n",
    "    min_length = min(len(EEG),len(EMG), len(score))\n",
    "    EEG = EEG[:min_length]\n",
    "    EMG = EMG[:min_length]\n",
    "    score = score[:min_length]\n",
    "    \n",
    "    EEG=EEG.astype(np.float32)\n",
    "    EMG=EMG.astype(np.float32)\n",
    "    score=score.astype(np.float32)\n",
    "    \n",
    "    if len(score_og) == 0:\n",
    "        score_og = score\n",
    "    else:\n",
    "        score_og = np.concatenate((score_og, score), axis=0)\n",
    "        \n",
    "    if len(EEG_og) == 0:\n",
    "        EEG_og = EEG\n",
    "    else:\n",
    "        EEG_og = np.concatenate((EEG_og, EEG), axis=0)\n",
    "        \n",
    "    if len(EMG_og) == 0:\n",
    "        EMG_og = EMG\n",
    "    else:\n",
    "        EMG_og = np.concatenate((EMG_og, EMG), axis=0)\n",
    "np.savez(full_path  , EEG=EEG_og, EMG=EMG_og, score=score_og)"
   ]
  }
 ],
 "metadata": {
  "kernelspec": {
   "display_name": "Python 3",
   "language": "python",
   "name": "python3"
  },
  "language_info": {
   "codemirror_mode": {
    "name": "ipython",
    "version": 3
   },
   "file_extension": ".py",
   "mimetype": "text/x-python",
   "name": "python",
   "nbconvert_exporter": "python",
   "pygments_lexer": "ipython3",
   "version": "3.12.8"
  }
 },
 "nbformat": 4,
 "nbformat_minor": 2
}
